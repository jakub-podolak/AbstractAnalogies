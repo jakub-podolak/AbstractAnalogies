{
 "cells": [
  {
   "cell_type": "code",
   "execution_count": 1,
   "id": "2df4cdf5-7705-4569-8108-f0f36c0d97bf",
   "metadata": {},
   "outputs": [],
   "source": [
    "import pandas as pd\n",
    "import os"
   ]
  },
  {
   "cell_type": "code",
   "execution_count": 2,
   "id": "e57ba430-0703-4577-a209-8594d4e2526d",
   "metadata": {},
   "outputs": [],
   "source": [
    "def calculate_accuracy(data):\n",
    "    if 'parsed_answer' not in data.columns or 'correct_answer' not in data.columns:\n",
    "        raise ValueError(\"DataFrame must contain 'parsed_answer' and 'correct_answer' columns\")\n",
    "    \n",
    "    correct_predictions = (data['parsed_answer'] == data['correct_answer']).sum()\n",
    "    total_predictions = data.shape[0]\n",
    "    \n",
    "    accuracy = correct_predictions / total_predictions\n",
    "    \n",
    "    return accuracy"
   ]
  },
  {
   "cell_type": "code",
   "execution_count": 3,
   "id": "e21daf1d-b109-4cf8-b9a9-9f85c12f844a",
   "metadata": {},
   "outputs": [],
   "source": [
    "all_results = os.listdir('../results/story_far_all_prompts/')"
   ]
  },
  {
   "cell_type": "code",
   "execution_count": 4,
   "id": "a81b2c66-aed2-44c2-8be8-e192148417a3",
   "metadata": {},
   "outputs": [],
   "source": [
    "MODEL = \"starling7b-beta\""
   ]
  },
  {
   "cell_type": "code",
   "execution_count": 5,
   "id": "59582040-946e-4a91-83e4-0578e3f02dbd",
   "metadata": {},
   "outputs": [],
   "source": [
    "import re\n",
    "\n",
    "def extract_prompt_info(filenames):\n",
    "    extracted_info = []\n",
    "    for filename in filenames:\n",
    "        match = re.search(r'story_analogies-\\d+_(.*?)-(\\d+)\\.csv', filename)\n",
    "        if match:\n",
    "            prompt_type = match.group(1)\n",
    "            run_number = match.group(2)\n",
    "            extracted_info.append((prompt_type, run_number))\n",
    "    return extracted_info"
   ]
  },
  {
   "cell_type": "markdown",
   "id": "229df4a8-36b6-4b74-995a-fd7158d5e7ae",
   "metadata": {},
   "source": [
    "# Majority voting"
   ]
  },
  {
   "cell_type": "code",
   "execution_count": 6,
   "id": "36ab586a-4774-405a-a471-9194656afe94",
   "metadata": {},
   "outputs": [],
   "source": [
    "from collections import Counter"
   ]
  },
  {
   "cell_type": "code",
   "execution_count": 7,
   "id": "3f48a7cd-cf1c-4e74-82d3-854549fdb5ab",
   "metadata": {},
   "outputs": [],
   "source": [
    "def majority_vote(*args):\n",
    "    return [Counter(votes).most_common(1)[0][0] for votes in zip(*args)]"
   ]
  },
  {
   "cell_type": "code",
   "execution_count": 8,
   "id": "e146529c-2e9c-4710-a298-155c1d563ae6",
   "metadata": {},
   "outputs": [],
   "source": [
    "def get_results_for_model(MODEL):\n",
    "    model_results = sorted([res for res in all_results if MODEL in res])\n",
    "\n",
    "    results_final = []\n",
    "\n",
    "    for res_file in model_results:\n",
    "        data = pd.read_csv('../results/story_far_all_prompts/' + res_file)[['parsed_answer', 'correct_answer']]\n",
    "        (prompt_type, prompt_number) = extract_prompt_info([res_file])[0]\n",
    "    \n",
    "        accuracy = calculate_accuracy(data)\n",
    "        results_final.append({'prompt_type': prompt_type, 'prompt_number': prompt_number, 'accuracy': accuracy})\n",
    "\n",
    "    final_results_df = pd.DataFrame(results_final)\n",
    "\n",
    "    results_majority = []\n",
    "    \n",
    "    for i in range(0, len(model_results), 3):\n",
    "        prompt_1 = model_results[i]\n",
    "        prompt_2 = model_results[i + 1]\n",
    "        prompt_3 = model_results[i + 2]\n",
    "        print(prompt_1, prompt_2, prompt_3)\n",
    "    \n",
    "        data_1 = pd.read_csv('../results/story_far_all_prompts/' + prompt_1)[['parsed_answer', 'correct_answer']]\n",
    "        data_2 = pd.read_csv('../results/story_far_all_prompts/' + prompt_2)[['parsed_answer', 'correct_answer']]\n",
    "        data_3 = pd.read_csv('../results/story_far_all_prompts/' + prompt_3)[['parsed_answer', 'correct_answer']]\n",
    "    \n",
    "        data_1['parsed_answer'] = majority_vote(data_1['parsed_answer'], data_2['parsed_answer'], data_3['parsed_answer'])\n",
    "    \n",
    "        (prompt_type, prompt_number) = extract_prompt_info([prompt_1])[0]\n",
    "    \n",
    "        accuracy = calculate_accuracy(data_1)\n",
    "        results_majority.append({'prompt_type': prompt_type, 'accuracy': accuracy})\n",
    "\n",
    "    return final_results_df, pd.DataFrame(results_majority)"
   ]
  },
  {
   "cell_type": "markdown",
   "id": "eb7ebf1a-5428-453a-94f0-f41b5967d4b0",
   "metadata": {},
   "source": [
    "# Compare models"
   ]
  },
  {
   "cell_type": "code",
   "execution_count": 9,
   "id": "f1d58aeb-7c44-4c51-88f1-5f6715963e47",
   "metadata": {},
   "outputs": [
    {
     "name": "stdout",
     "output_type": "stream",
     "text": [
      "story_analogies_far_mistral7b_prompt_templates-story_analogies-1_basic_prompt_not_forced-1.csv story_analogies_far_mistral7b_prompt_templates-story_analogies-1_basic_prompt_not_forced-2.csv story_analogies_far_mistral7b_prompt_templates-story_analogies-1_basic_prompt_not_forced-3.csv\n",
      "story_analogies_far_mistral7b_prompt_templates-story_analogies-2_basic_prompt_forced-1.csv story_analogies_far_mistral7b_prompt_templates-story_analogies-2_basic_prompt_forced-2.csv story_analogies_far_mistral7b_prompt_templates-story_analogies-2_basic_prompt_forced-3.csv\n",
      "story_analogies_far_mistral7b_prompt_templates-story_analogies-3_cot-1.csv story_analogies_far_mistral7b_prompt_templates-story_analogies-3_cot-2.csv story_analogies_far_mistral7b_prompt_templates-story_analogies-3_cot-3.csv\n",
      "story_analogies_far_mistral7b_prompt_templates-story_analogies-4_cot_structured-1.csv story_analogies_far_mistral7b_prompt_templates-story_analogies-4_cot_structured-2.csv story_analogies_far_mistral7b_prompt_templates-story_analogies-4_cot_structured-3.csv\n"
     ]
    }
   ],
   "source": [
    "_, mistral_majority = get_results_for_model('mistral7b')"
   ]
  },
  {
   "cell_type": "code",
   "execution_count": 10,
   "id": "890ac3d2-5ebc-470a-a681-6d010562130a",
   "metadata": {},
   "outputs": [
    {
     "name": "stdout",
     "output_type": "stream",
     "text": [
      "story_analogies_far_llama3_prompt_templates-story_analogies-1_basic_prompt_not_forced-1.csv story_analogies_far_llama3_prompt_templates-story_analogies-1_basic_prompt_not_forced-2.csv story_analogies_far_llama3_prompt_templates-story_analogies-1_basic_prompt_not_forced-3.csv\n",
      "story_analogies_far_llama3_prompt_templates-story_analogies-2_basic_prompt_forced-1.csv story_analogies_far_llama3_prompt_templates-story_analogies-2_basic_prompt_forced-2.csv story_analogies_far_llama3_prompt_templates-story_analogies-2_basic_prompt_forced-3.csv\n",
      "story_analogies_far_llama3_prompt_templates-story_analogies-3_cot-1.csv story_analogies_far_llama3_prompt_templates-story_analogies-3_cot-2.csv story_analogies_far_llama3_prompt_templates-story_analogies-3_cot-3.csv\n",
      "story_analogies_far_llama3_prompt_templates-story_analogies-4_cot_structured-1.csv story_analogies_far_llama3_prompt_templates-story_analogies-4_cot_structured-2.csv story_analogies_far_llama3_prompt_templates-story_analogies-4_cot_structured-3.csv\n"
     ]
    }
   ],
   "source": [
    "_, llama_majority = get_results_for_model('llama3')"
   ]
  },
  {
   "cell_type": "code",
   "execution_count": 11,
   "id": "82504f7b-c111-4285-8ee5-9bdc66fc3172",
   "metadata": {},
   "outputs": [
    {
     "name": "stdout",
     "output_type": "stream",
     "text": [
      "story_analogies_far_starling7b-beta_prompt_templates-story_analogies-1_basic_prompt_not_forced-1.csv story_analogies_far_starling7b-beta_prompt_templates-story_analogies-1_basic_prompt_not_forced-2.csv story_analogies_far_starling7b-beta_prompt_templates-story_analogies-1_basic_prompt_not_forced-3.csv\n",
      "story_analogies_far_starling7b-beta_prompt_templates-story_analogies-2_basic_prompt_forced-1.csv story_analogies_far_starling7b-beta_prompt_templates-story_analogies-2_basic_prompt_forced-2.csv story_analogies_far_starling7b-beta_prompt_templates-story_analogies-2_basic_prompt_forced-3.csv\n",
      "story_analogies_far_starling7b-beta_prompt_templates-story_analogies-3_cot-1.csv story_analogies_far_starling7b-beta_prompt_templates-story_analogies-3_cot-2.csv story_analogies_far_starling7b-beta_prompt_templates-story_analogies-3_cot-3.csv\n",
      "story_analogies_far_starling7b-beta_prompt_templates-story_analogies-4_cot_structured-1.csv story_analogies_far_starling7b-beta_prompt_templates-story_analogies-4_cot_structured-2.csv story_analogies_far_starling7b-beta_prompt_templates-story_analogies-4_cot_structured-3.csv\n"
     ]
    }
   ],
   "source": [
    "_, starling_majority = get_results_for_model('starling7b-beta')"
   ]
  },
  {
   "cell_type": "code",
   "execution_count": 12,
   "id": "1bec2acc-6e6a-4f5d-bfe4-5267163c9c85",
   "metadata": {},
   "outputs": [],
   "source": [
    "mistral_majority['model'] = 'mistral7b'"
   ]
  },
  {
   "cell_type": "code",
   "execution_count": 13,
   "id": "63bcad11-446f-4bd8-b747-545ff3cbf972",
   "metadata": {},
   "outputs": [],
   "source": [
    "llama_majority['model'] = 'llama3'"
   ]
  },
  {
   "cell_type": "code",
   "execution_count": 14,
   "id": "80395e69-2799-47b1-9cd1-16b784a87b62",
   "metadata": {},
   "outputs": [],
   "source": [
    "starling_majority['model'] = 'starling7b'"
   ]
  },
  {
   "cell_type": "code",
   "execution_count": 15,
   "id": "ee34c646-9f9f-4820-a31e-64c57fc8b53c",
   "metadata": {},
   "outputs": [],
   "source": [
    "df = pd.concat([starling_majority, llama_majority, mistral_majority])"
   ]
  },
  {
   "cell_type": "code",
   "execution_count": 16,
   "id": "61feb876-65fc-489c-a956-8cd7222299ba",
   "metadata": {},
   "outputs": [
    {
     "data": {
      "text/html": [
       "<div>\n",
       "<style scoped>\n",
       "    .dataframe tbody tr th:only-of-type {\n",
       "        vertical-align: middle;\n",
       "    }\n",
       "\n",
       "    .dataframe tbody tr th {\n",
       "        vertical-align: top;\n",
       "    }\n",
       "\n",
       "    .dataframe thead th {\n",
       "        text-align: right;\n",
       "    }\n",
       "</style>\n",
       "<table border=\"1\" class=\"dataframe\">\n",
       "  <thead>\n",
       "    <tr style=\"text-align: right;\">\n",
       "      <th></th>\n",
       "      <th>prompt_type</th>\n",
       "      <th>accuracy</th>\n",
       "      <th>model</th>\n",
       "    </tr>\n",
       "  </thead>\n",
       "  <tbody>\n",
       "    <tr>\n",
       "      <th>0</th>\n",
       "      <td>basic_prompt_not_forced</td>\n",
       "      <td>0.722222</td>\n",
       "      <td>starling7b</td>\n",
       "    </tr>\n",
       "    <tr>\n",
       "      <th>1</th>\n",
       "      <td>basic_prompt_forced</td>\n",
       "      <td>0.722222</td>\n",
       "      <td>starling7b</td>\n",
       "    </tr>\n",
       "    <tr>\n",
       "      <th>2</th>\n",
       "      <td>cot</td>\n",
       "      <td>0.722222</td>\n",
       "      <td>starling7b</td>\n",
       "    </tr>\n",
       "    <tr>\n",
       "      <th>3</th>\n",
       "      <td>cot_structured</td>\n",
       "      <td>0.777778</td>\n",
       "      <td>starling7b</td>\n",
       "    </tr>\n",
       "    <tr>\n",
       "      <th>0</th>\n",
       "      <td>basic_prompt_not_forced</td>\n",
       "      <td>0.666667</td>\n",
       "      <td>llama3</td>\n",
       "    </tr>\n",
       "    <tr>\n",
       "      <th>1</th>\n",
       "      <td>basic_prompt_forced</td>\n",
       "      <td>0.694444</td>\n",
       "      <td>llama3</td>\n",
       "    </tr>\n",
       "    <tr>\n",
       "      <th>2</th>\n",
       "      <td>cot</td>\n",
       "      <td>0.666667</td>\n",
       "      <td>llama3</td>\n",
       "    </tr>\n",
       "    <tr>\n",
       "      <th>3</th>\n",
       "      <td>cot_structured</td>\n",
       "      <td>0.638889</td>\n",
       "      <td>llama3</td>\n",
       "    </tr>\n",
       "    <tr>\n",
       "      <th>0</th>\n",
       "      <td>basic_prompt_not_forced</td>\n",
       "      <td>0.694444</td>\n",
       "      <td>mistral7b</td>\n",
       "    </tr>\n",
       "    <tr>\n",
       "      <th>1</th>\n",
       "      <td>basic_prompt_forced</td>\n",
       "      <td>0.638889</td>\n",
       "      <td>mistral7b</td>\n",
       "    </tr>\n",
       "    <tr>\n",
       "      <th>2</th>\n",
       "      <td>cot</td>\n",
       "      <td>0.611111</td>\n",
       "      <td>mistral7b</td>\n",
       "    </tr>\n",
       "    <tr>\n",
       "      <th>3</th>\n",
       "      <td>cot_structured</td>\n",
       "      <td>0.777778</td>\n",
       "      <td>mistral7b</td>\n",
       "    </tr>\n",
       "  </tbody>\n",
       "</table>\n",
       "</div>"
      ],
      "text/plain": [
       "               prompt_type  accuracy       model\n",
       "0  basic_prompt_not_forced  0.722222  starling7b\n",
       "1      basic_prompt_forced  0.722222  starling7b\n",
       "2                      cot  0.722222  starling7b\n",
       "3           cot_structured  0.777778  starling7b\n",
       "0  basic_prompt_not_forced  0.666667      llama3\n",
       "1      basic_prompt_forced  0.694444      llama3\n",
       "2                      cot  0.666667      llama3\n",
       "3           cot_structured  0.638889      llama3\n",
       "0  basic_prompt_not_forced  0.694444   mistral7b\n",
       "1      basic_prompt_forced  0.638889   mistral7b\n",
       "2                      cot  0.611111   mistral7b\n",
       "3           cot_structured  0.777778   mistral7b"
      ]
     },
     "execution_count": 16,
     "metadata": {},
     "output_type": "execute_result"
    }
   ],
   "source": [
    "df"
   ]
  },
  {
   "cell_type": "code",
   "execution_count": 17,
   "id": "4951febb-0e38-4611-8686-b9d31e8ad3c4",
   "metadata": {},
   "outputs": [],
   "source": [
    "import matplotlib.pyplot as plt"
   ]
  },
  {
   "cell_type": "code",
   "execution_count": 40,
   "id": "3327dc7b-5d22-412e-97b6-c245db7b5550",
   "metadata": {},
   "outputs": [
    {
     "data": {
      "text/html": [
       "<div>\n",
       "<style scoped>\n",
       "    .dataframe tbody tr th:only-of-type {\n",
       "        vertical-align: middle;\n",
       "    }\n",
       "\n",
       "    .dataframe tbody tr th {\n",
       "        vertical-align: top;\n",
       "    }\n",
       "\n",
       "    .dataframe thead th {\n",
       "        text-align: right;\n",
       "    }\n",
       "</style>\n",
       "<table border=\"1\" class=\"dataframe\">\n",
       "  <thead>\n",
       "    <tr style=\"text-align: right;\">\n",
       "      <th></th>\n",
       "      <th>prompt_type</th>\n",
       "      <th>accuracy</th>\n",
       "      <th>model</th>\n",
       "    </tr>\n",
       "  </thead>\n",
       "  <tbody>\n",
       "    <tr>\n",
       "      <th>0</th>\n",
       "      <td>basic_prompt_not_forced</td>\n",
       "      <td>0.722222</td>\n",
       "      <td>starling7b</td>\n",
       "    </tr>\n",
       "    <tr>\n",
       "      <th>0</th>\n",
       "      <td>basic_prompt_not_forced</td>\n",
       "      <td>0.666667</td>\n",
       "      <td>llama3</td>\n",
       "    </tr>\n",
       "    <tr>\n",
       "      <th>0</th>\n",
       "      <td>basic_prompt_not_forced</td>\n",
       "      <td>0.694444</td>\n",
       "      <td>mistral7b</td>\n",
       "    </tr>\n",
       "  </tbody>\n",
       "</table>\n",
       "</div>"
      ],
      "text/plain": [
       "               prompt_type  accuracy       model\n",
       "0  basic_prompt_not_forced  0.722222  starling7b\n",
       "0  basic_prompt_not_forced  0.666667      llama3\n",
       "0  basic_prompt_not_forced  0.694444   mistral7b"
      ]
     },
     "metadata": {},
     "output_type": "display_data"
    },
    {
     "data": {
      "text/html": [
       "<div>\n",
       "<style scoped>\n",
       "    .dataframe tbody tr th:only-of-type {\n",
       "        vertical-align: middle;\n",
       "    }\n",
       "\n",
       "    .dataframe tbody tr th {\n",
       "        vertical-align: top;\n",
       "    }\n",
       "\n",
       "    .dataframe thead th {\n",
       "        text-align: right;\n",
       "    }\n",
       "</style>\n",
       "<table border=\"1\" class=\"dataframe\">\n",
       "  <thead>\n",
       "    <tr style=\"text-align: right;\">\n",
       "      <th></th>\n",
       "      <th>prompt_type</th>\n",
       "      <th>accuracy</th>\n",
       "      <th>model</th>\n",
       "    </tr>\n",
       "  </thead>\n",
       "  <tbody>\n",
       "    <tr>\n",
       "      <th>1</th>\n",
       "      <td>basic_prompt_forced</td>\n",
       "      <td>0.722222</td>\n",
       "      <td>starling7b</td>\n",
       "    </tr>\n",
       "    <tr>\n",
       "      <th>1</th>\n",
       "      <td>basic_prompt_forced</td>\n",
       "      <td>0.694444</td>\n",
       "      <td>llama3</td>\n",
       "    </tr>\n",
       "    <tr>\n",
       "      <th>1</th>\n",
       "      <td>basic_prompt_forced</td>\n",
       "      <td>0.638889</td>\n",
       "      <td>mistral7b</td>\n",
       "    </tr>\n",
       "  </tbody>\n",
       "</table>\n",
       "</div>"
      ],
      "text/plain": [
       "           prompt_type  accuracy       model\n",
       "1  basic_prompt_forced  0.722222  starling7b\n",
       "1  basic_prompt_forced  0.694444      llama3\n",
       "1  basic_prompt_forced  0.638889   mistral7b"
      ]
     },
     "metadata": {},
     "output_type": "display_data"
    },
    {
     "data": {
      "text/html": [
       "<div>\n",
       "<style scoped>\n",
       "    .dataframe tbody tr th:only-of-type {\n",
       "        vertical-align: middle;\n",
       "    }\n",
       "\n",
       "    .dataframe tbody tr th {\n",
       "        vertical-align: top;\n",
       "    }\n",
       "\n",
       "    .dataframe thead th {\n",
       "        text-align: right;\n",
       "    }\n",
       "</style>\n",
       "<table border=\"1\" class=\"dataframe\">\n",
       "  <thead>\n",
       "    <tr style=\"text-align: right;\">\n",
       "      <th></th>\n",
       "      <th>prompt_type</th>\n",
       "      <th>accuracy</th>\n",
       "      <th>model</th>\n",
       "    </tr>\n",
       "  </thead>\n",
       "  <tbody>\n",
       "    <tr>\n",
       "      <th>2</th>\n",
       "      <td>cot</td>\n",
       "      <td>0.722222</td>\n",
       "      <td>starling7b</td>\n",
       "    </tr>\n",
       "    <tr>\n",
       "      <th>2</th>\n",
       "      <td>cot</td>\n",
       "      <td>0.666667</td>\n",
       "      <td>llama3</td>\n",
       "    </tr>\n",
       "    <tr>\n",
       "      <th>2</th>\n",
       "      <td>cot</td>\n",
       "      <td>0.611111</td>\n",
       "      <td>mistral7b</td>\n",
       "    </tr>\n",
       "  </tbody>\n",
       "</table>\n",
       "</div>"
      ],
      "text/plain": [
       "  prompt_type  accuracy       model\n",
       "2         cot  0.722222  starling7b\n",
       "2         cot  0.666667      llama3\n",
       "2         cot  0.611111   mistral7b"
      ]
     },
     "metadata": {},
     "output_type": "display_data"
    },
    {
     "data": {
      "text/html": [
       "<div>\n",
       "<style scoped>\n",
       "    .dataframe tbody tr th:only-of-type {\n",
       "        vertical-align: middle;\n",
       "    }\n",
       "\n",
       "    .dataframe tbody tr th {\n",
       "        vertical-align: top;\n",
       "    }\n",
       "\n",
       "    .dataframe thead th {\n",
       "        text-align: right;\n",
       "    }\n",
       "</style>\n",
       "<table border=\"1\" class=\"dataframe\">\n",
       "  <thead>\n",
       "    <tr style=\"text-align: right;\">\n",
       "      <th></th>\n",
       "      <th>prompt_type</th>\n",
       "      <th>accuracy</th>\n",
       "      <th>model</th>\n",
       "    </tr>\n",
       "  </thead>\n",
       "  <tbody>\n",
       "    <tr>\n",
       "      <th>3</th>\n",
       "      <td>cot_structured</td>\n",
       "      <td>0.777778</td>\n",
       "      <td>starling7b</td>\n",
       "    </tr>\n",
       "    <tr>\n",
       "      <th>3</th>\n",
       "      <td>cot_structured</td>\n",
       "      <td>0.638889</td>\n",
       "      <td>llama3</td>\n",
       "    </tr>\n",
       "    <tr>\n",
       "      <th>3</th>\n",
       "      <td>cot_structured</td>\n",
       "      <td>0.777778</td>\n",
       "      <td>mistral7b</td>\n",
       "    </tr>\n",
       "  </tbody>\n",
       "</table>\n",
       "</div>"
      ],
      "text/plain": [
       "      prompt_type  accuracy       model\n",
       "3  cot_structured  0.777778  starling7b\n",
       "3  cot_structured  0.638889      llama3\n",
       "3  cot_structured  0.777778   mistral7b"
      ]
     },
     "metadata": {},
     "output_type": "display_data"
    },
    {
     "data": {
      "image/png": "[encoded data removed]",
      "text/plain": [
       "<Figure size 1200x800 with 1 Axes>"
      ]
     },
     "metadata": {},
     "output_type": "display_data"
    }
   ],
   "source": [
    "# colors = {\n",
    "#     'basic_prompt_not_forced': 'tab:blue',\n",
    "#     'basic_prompt_forced': 'tab:orange',\n",
    "#     'cot': 'tab:green',\n",
    "#     'cot_structured': 'tab:red'\n",
    "# }\n",
    "\n",
    "palette = 'pastel'\n",
    "\n",
    "colors = {\n",
    "    'basic_prompt_not_forced': sns.color_palette(palette)[0],\n",
    "    'basic_prompt_forced': sns.color_palette(palette)[1],\n",
    "    'cot': sns.color_palette(palette)[2],\n",
    "    'cot_structured':sns.color_palette(palette)[3],\n",
    "}\n",
    "\n",
    "\n",
    "# Plotting\n",
    "fig, ax = plt.subplots(figsize=(12, 8))\n",
    "\n",
    "# Unique data points\n",
    "unique_data = df['model'].unique()\n",
    "width = 0.15  # Width of the bars\n",
    "positions = range(len(unique_data))\n",
    "\n",
    "\n",
    "# Offset positions for each prompt type\n",
    "offsets = {\n",
    "    'basic_prompt_not_forced': -1.5*width - 0.015,\n",
    "    'basic_prompt_forced': -0.5*width - 0.005,\n",
    "    'cot': 0.5*width + 0.005,\n",
    "    'cot_structured': 1.5*width + 0.015\n",
    "}\n",
    "\n",
    "for pt in df['prompt_type'].unique():\n",
    "    model_data = df[df['prompt_type'] == pt]\n",
    "    display(model_data)\n",
    "    positions_with_offset = [p + offsets[pt] for p in positions]\n",
    "    ax.bar(positions_with_offset, model_data['accuracy'], width=width, label=pt, color=colors[pt])\n",
    "\n",
    "ax.axhline(0.85, linewidth=2, label='Mean accuracy of human participants', linestyle='dashed')\n",
    "ax.set_xlabel('Model')\n",
    "ax.set_ylabel('Accuracy')\n",
    "ax.set_title('Story Far Analogies (Majority Vote from 3 prompt variants)')\n",
    "ax.set_xticks(positions)\n",
    "ax.set_xticklabels(unique_data)\n",
    "ax.legend(title='Prompt Types', loc='lower left')\n",
    "\n",
    "plt.savefig('story_far_results.png')\n",
    "plt.show()"
   ]
  },
  {
   "cell_type": "code",
   "execution_count": 22,
   "id": "dbe2a19c-edeb-48fc-9196-f08ac3a536b9",
   "metadata": {},
   "outputs": [],
   "source": [
    "import seaborn as sns"
   ]
  },
  {
   "cell_type": "code",
   "execution_count": 26,
   "id": "6ce5d55e-4929-4dc3-bbf4-d19e0ff16c56",
   "metadata": {},
   "outputs": [
    {
     "data": {
      "text/plain": [
       "(0.4, 0.7607843137254902, 0.6470588235294118)"
      ]
     },
     "execution_count": 26,
     "metadata": {},
     "output_type": "execute_result"
    }
   ],
   "source": [
    "sns.color_palette(\"Set2\")[0]"
   ]
  },
  {
   "cell_type": "code",
   "execution_count": null,
   "id": "f46299f5-cb84-43af-b284-11c2f79e67dd",
   "metadata": {},
   "outputs": [],
   "source": []
  }
 ],
 "metadata": {
  "kernelspec": {
   "display_name": "Python 3 (ipykernel)",
   "language": "python",
   "name": "python3"
  },
  "language_info": {
   "codemirror_mode": {
    "name": "ipython",
    "version": 3
   },
   "file_extension": ".py",
   "mimetype": "text/x-python",
   "name": "python",
   "nbconvert_exporter": "python",
   "pygments_lexer": "ipython3",
   "version": "3.11.5"
  }
 },
 "nbformat": 4,
 "nbformat_minor": 5
}
